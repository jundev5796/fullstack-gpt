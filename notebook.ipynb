{
 "cells": [
  {
   "cell_type": "code",
   "execution_count": 27,
   "metadata": {},
   "outputs": [],
   "source": [
    "from langchain.chat_models import ChatOpenAI\n",
    "from langchain.prompts import PromptTemplate, ChatPromptTemplate\n",
    "from langchain.callbacks import StreamingStdOutCallbackHandler\n",
    "\n",
    "chat = ChatOpenAI(\n",
    "  temperature=0.1,\n",
    "  streaming=True,\n",
    "  callbacks=[StreamingStdOutCallbackHandler()]\n",
    ")\n",
    "\n",
    "chef_prompt = ChatPromptTemplate.from_messages([\n",
    "  (\"system\", \"You are a wold-class international chef. You create easy to follow recipes for any type of cuisine with easy to find ingredients.\"),\n",
    "  (\"human\", \"I want to cook {cuisine} food.\"),\n",
    "])\n",
    "\n",
    "chef_chain = chef_prompt | chat"
   ]
  },
  {
   "cell_type": "code",
   "execution_count": 26,
   "metadata": {},
   "outputs": [
    {
     "name": "stdout",
     "output_type": "stream",
     "text": [
      "Great choice! How about making some delicious Bibimbap? Here's a simple recipe for you to try at home:\n",
      "\n",
      "Ingredients:\n",
      "- 2 cups cooked white rice\n",
      "- 1 carrot, julienned\n",
      "- 1 zucchini, julienned\n",
      "- 1 cup bean sprouts\n",
      "- 1 cup spinach\n",
      "- 4 shiitake mushrooms, sliced\n",
      "- 1/2 pound beef (such as ribeye or sirloin), thinly sliced\n",
      "- 4 eggs\n",
      "- 4 tablespoons gochujang (Korean chili paste)\n",
      "- 2 tablespoons soy sauce\n",
      "- 2 tablespoons sesame oil\n",
      "- 2 cloves garlic, minced\n",
      "- Salt and pepper to taste\n",
      "- Sesame seeds for garnish\n",
      "- Vegetable oil for cooking\n",
      "\n",
      "Instructions:\n",
      "1. Marinate the beef: In a bowl, mix the beef with soy sauce, sesame oil, garlic, salt, and pepper. Let it marinate for at least 30 minutes.\n",
      "2. Cook the rice according to package instructions and set aside.\n",
      "3. In a pan, heat some vegetable oil over medium heat. Stir-fry the marinated beef until cooked through. Remove from the pan and set aside.\n",
      "4. In the same pan, add a little more oil if needed and stir-fry the carrots, zucchini, and mushrooms separately until tender. Season with salt and pepper. Remove from the pan and set aside.\n",
      "5. Blanch the bean sprouts and spinach in boiling water for a few minutes, then drain and squeeze out excess water. Season with a little salt and sesame oil.\n",
      "6. In the same pan, fry the eggs sunny side up or over easy.\n",
      "7. To assemble the Bibimbap, divide the rice among serving bowls. Arrange the cooked vegetables, beef, and fried egg on top of the rice.\n",
      "8. Serve with a dollop of gochujang on the side and sprinkle with sesame seeds.\n",
      "9. Mix everything together before eating to enjoy all the flavors combined.\n",
      "\n",
      "Enjoy your homemade Bibimbap! Feel free to customize it with your favorite vegetables or protein. Let me know if you have any other Korean dishes in mind that you'd like to try.For a vegetarian version of Bibimbap, you can make a few simple swaps to replace the beef in the recipe:\n",
      "\n",
      "1. **Beef**: Instead of using beef, you can substitute it with tofu or tempeh. Both tofu and tempeh are great sources of plant-based protein and can absorb flavors well when marinated. For this recipe, you can marinate the tofu or tempeh in a similar mixture of soy sauce, sesame oil, garlic, salt, and pepper. Cut the tofu or tempeh into thin slices or cubes before marinating and cooking.\n",
      "\n",
      "2. **Marinating the tofu or tempeh**: To marinate tofu or tempeh, press out excess water from the tofu using a tofu press or by wrapping it in a clean kitchen towel and placing a heavy object on top for about 15-30 minutes. For tempeh, you can simply slice it and marinate it directly.\n",
      "\n",
      "3. **Cooking**: Instead of stir-frying the beef, you can cook the marinated tofu or tempeh in a pan until golden brown and crispy on the outside.\n",
      "\n",
      "By making these simple swaps, you can enjoy a delicious vegetarian Bibimbap that is just as flavorful and satisfying as the traditional version. Feel free to customize the recipe with your favorite vegetables and enjoy a tasty Korean-inspired meal!"
     ]
    },
    {
     "data": {
      "text/plain": [
       "AIMessageChunk(content='For a vegetarian version of Bibimbap, you can make a few simple swaps to replace the beef in the recipe:\\n\\n1. **Beef**: Instead of using beef, you can substitute it with tofu or tempeh. Both tofu and tempeh are great sources of plant-based protein and can absorb flavors well when marinated. For this recipe, you can marinate the tofu or tempeh in a similar mixture of soy sauce, sesame oil, garlic, salt, and pepper. Cut the tofu or tempeh into thin slices or cubes before marinating and cooking.\\n\\n2. **Marinating the tofu or tempeh**: To marinate tofu or tempeh, press out excess water from the tofu using a tofu press or by wrapping it in a clean kitchen towel and placing a heavy object on top for about 15-30 minutes. For tempeh, you can simply slice it and marinate it directly.\\n\\n3. **Cooking**: Instead of stir-frying the beef, you can cook the marinated tofu or tempeh in a pan until golden brown and crispy on the outside.\\n\\nBy making these simple swaps, you can enjoy a delicious vegetarian Bibimbap that is just as flavorful and satisfying as the traditional version. Feel free to customize the recipe with your favorite vegetables and enjoy a tasty Korean-inspired meal!')"
      ]
     },
     "execution_count": 26,
     "metadata": {},
     "output_type": "execute_result"
    }
   ],
   "source": [
    "veg_chef_prompt = ChatPromptTemplate.from_messages([\n",
    "  (\"system\", \"You are a vegetarian chef specialized on making traditional recipies vegetarian. You find alternative ingredients and explain their preparation. You don't radically modify the recipe. If there is no alternative for a food just say you don't know how to replace it.\"),\n",
    "  (\"human\", \"{recipe}\")\n",
    "])\n",
    "\n",
    "veg_chain = veg_chef_prompt | chat\n",
    "\n",
    "final_chain = {\"recipe\": chef_chain} | veg_chain\n",
    "\n",
    "final_chain.invoke({\n",
    "  \"cuisine\": \"korean\"\n",
    "})"
   ]
  }
 ],
 "metadata": {
  "kernelspec": {
   "display_name": "env",
   "language": "python",
   "name": "python3"
  },
  "language_info": {
   "codemirror_mode": {
    "name": "ipython",
    "version": 3
   },
   "file_extension": ".py",
   "mimetype": "text/x-python",
   "name": "python",
   "nbconvert_exporter": "python",
   "pygments_lexer": "ipython3",
   "version": "3.11.6"
  }
 },
 "nbformat": 4,
 "nbformat_minor": 2
}
