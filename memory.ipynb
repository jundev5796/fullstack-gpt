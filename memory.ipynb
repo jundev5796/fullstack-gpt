{
 "cells": [
  {
   "cell_type": "code",
   "execution_count": 14,
   "metadata": {},
   "outputs": [
    {
     "name": "stdout",
     "output_type": "stream",
     "text": [
      "\n",
      "\n",
      "\u001b[1m> Entering new LLMChain chain...\u001b[0m\n",
      "Prompt after formatting:\n",
      "\u001b[32;1m\u001b[1;3mHuman: The Avengers\n",
      "AI:🛸🌎🤖\n",
      "\n",
      "Human: Mission Impossible\n",
      "AI:🕵️‍♀️🛩️🤫\n",
      "\n",
      "Human: Harry Potter and the Philosopher's Stone\n",
      "AI:🧙🦉🪄\n",
      "\n",
      "Human: show me 3 emojis about Avengers: Engame\u001b[0m\n",
      "AI: 🦸‍♂️⚔️🦹‍♀️\n",
      "\u001b[1m> Finished chain.\u001b[0m\n"
     ]
    },
    {
     "data": {
      "text/plain": [
       "'AI: 🦸\\u200d♂️⚔️🦹\\u200d♀️'"
      ]
     },
     "execution_count": 14,
     "metadata": {},
     "output_type": "execute_result"
    }
   ],
   "source": [
    "from langchain.chat_models import ChatOpenAI\n",
    "from langchain.memory import ConversationSummaryBufferMemory\n",
    "from langchain.prompts.few_shot import FewShotPromptTemplate\n",
    "from langchain.prompts import PromptTemplate\n",
    "from langchain.callbacks import StreamingStdOutCallbackHandler\n",
    "from langchain.chains import LLMChain\n",
    "\n",
    "llm = ChatOpenAI(temperature=\"0.1\", streaming=True, callbacks=[StreamingStdOutCallbackHandler()])\n",
    "\n",
    "memory = ConversationSummaryBufferMemory(\n",
    "  llm=llm,\n",
    "  max_token_limit=120,\n",
    "  memory_key=\"chat_history\",\n",
    "  return_messages=True\n",
    ")\n",
    "\n",
    "examples = [\n",
    "  {\n",
    "    \"question\": \"The Avengers\",\n",
    "    \"answer\": \"🛸🌎🤖\",\n",
    "  },\n",
    "  {\n",
    "    \"question\": \"Mission Impossible\",\n",
    "    \"answer\": \"🕵️‍♀️🛩️🤫\",\n",
    "  },\n",
    "  {\n",
    "    \"question\": \"Harry Potter and the Philosopher's Stone\",\n",
    "    \"answer\": \"🧙🦉🪄\",\n",
    "  },\n",
    "]\n",
    "\n",
    "example_prompt = PromptTemplate.from_template(\n",
    "  \"Human: {question}\\nAI:{answer}\"\n",
    ")\n",
    "\n",
    "prompt = FewShotPromptTemplate(\n",
    "  example_prompt=example_prompt,\n",
    "  examples=examples,\n",
    "  suffix= \"Human: show me 3 emojis about {movie}\",\n",
    "  input_variables=[\"movie\"]\n",
    ")\n",
    "\n",
    "chain = LLMChain(\n",
    "  llm=llm,\n",
    "  memory=memory,\n",
    "  prompt=prompt,\n",
    "  verbose=True\n",
    ")\n",
    "\n",
    "chain.predict(movie=\"Avengers: Engame\")"
   ]
  }
 ],
 "metadata": {
  "kernelspec": {
   "display_name": "env",
   "language": "python",
   "name": "python3"
  },
  "language_info": {
   "codemirror_mode": {
    "name": "ipython",
    "version": 3
   },
   "file_extension": ".py",
   "mimetype": "text/x-python",
   "name": "python",
   "nbconvert_exporter": "python",
   "pygments_lexer": "ipython3",
   "version": "3.11.6"
  }
 },
 "nbformat": 4,
 "nbformat_minor": 2
}
