{
 "cells": [
  {
   "cell_type": "code",
   "execution_count": 5,
   "metadata": {},
   "outputs": [
    {
     "name": "stdout",
     "output_type": "stream",
     "text": [
      "\n",
      "    Info:\n",
      "    Director: Anthony Russo, Joe Russo\n",
      "    Main Cast: Robert Downey Jr., Chris Evans, Mark Ruffalo, Chris Hemsworth, Scarlett Johansson, Jeremy Renner\n",
      "    Budget: 356 million USD\n",
      "    Box Office Revenue: 2.798 billion USD\n",
      "    Genre: Action, Sci-Fi, Fantasy\n",
      "    Synopsis: After the devastating events of Avengers: Infinity War, the universe is in ruins. With the help of remaining allies, the Avengers assemble once more in order to undo Thanos' actions and restore order to the universe. The original Avengers, along with new allies, embark on a final mission to save the world and bring back those who were lost."
     ]
    },
    {
     "data": {
      "text/plain": [
       "AIMessageChunk(content=\"\\n    Info:\\n    Director: Anthony Russo, Joe Russo\\n    Main Cast: Robert Downey Jr., Chris Evans, Mark Ruffalo, Chris Hemsworth, Scarlett Johansson, Jeremy Renner\\n    Budget: 356 million USD\\n    Box Office Revenue: 2.798 billion USD\\n    Genre: Action, Sci-Fi, Fantasy\\n    Synopsis: After the devastating events of Avengers: Infinity War, the universe is in ruins. With the help of remaining allies, the Avengers assemble once more in order to undo Thanos' actions and restore order to the universe. The original Avengers, along with new allies, embark on a final mission to save the world and bring back those who were lost.\")"
      ]
     },
     "execution_count": 5,
     "metadata": {},
     "output_type": "execute_result"
    }
   ],
   "source": [
    "from langchain.chat_models import ChatOpenAI\n",
    "from langchain.prompts.few_shot import FewShotChatMessagePromptTemplate\n",
    "from langchain.callbacks import StreamingStdOutCallbackHandler\n",
    "from langchain.prompts import ChatMessagePromptTemplate, ChatPromptTemplate\n",
    "\n",
    "chat = ChatOpenAI(\n",
    "  temperature=0.1,\n",
    "  streaming=True,\n",
    "  callbacks=[\n",
    "      StreamingStdOutCallbackHandler(),\n",
    "  ],\n",
    ")\n",
    "\n",
    "\n",
    "examples = [\n",
    "  {\n",
    "    \"movie\": \"The Avengers\",\n",
    "    \"info\": \"\"\"\n",
    "    Info:\n",
    "    Director: Anthony Russo, Joss Whedon, Joe Russo\n",
    "    Main Cast: Robert Downey Jr., Chris Evans, Chris Hemsworth, Mark Ruffalo, Scarlett Johansson, Jeremy Renner\n",
    "    Budget: 356 million USD\n",
    "    Box Office Revenue: 1.519 billion USD\n",
    "    Genre: Action, Sci-Fi, Fantasy\n",
    "    Synopsis: When Thor's evil brother, Loki (Tom Hiddleston), gains access to the unlimited power of the energy cube called the Tesseract, Nick Fury (Samuel L. Jackson), director of S.H.I.E.L.D., initiates a superhero recruitment effort to defeat the unprecedented threat to Earth. Joining Fury's \"dream team\" are Iron Man (Robert Downey Jr.), Captain America (Chris Evans), the Hulk (Mark Ruffalo), Thor (Chris Hemsworth), the Black Widow (Scarlett Johansson) and Hawkeye (Jeremy Renner).\n",
    "    \"\"\",\n",
    "  },\n",
    "  {\n",
    "    \"movie\": \"The Dark Knight\",\n",
    "    \"info\": \"\"\"\n",
    "    Info:\n",
    "    Director: Christopher Nolan\n",
    "    Main Cast: Christian Bale, Heath Ledger, Gary Oldman, Aaron Eckhart, Michael Caine, Morgan Freeman\n",
    "    Budget: 185 million USD\n",
    "    Box Office Revenue: 1.006 billion USD\n",
    "    Genre: Action, Thriller, Suspense\n",
    "    Synopsis: With the help of allies Lt. Jim Gordon (Gary Oldman) and DA Harvey Dent (Aaron Eckhart), Batman (Christian Bale) has been able to keep a tight lid on crime in Gotham City. But when a vile young criminal calling himself the Joker (Heath Ledger) suddenly throws the town into chaos, the caped Crusader begins to tread a fine line between heroism and vigilantism.\n",
    "    \"\"\",\n",
    "  },\n",
    "  {\n",
    "    \"movie\": \"Venom\",\n",
    "    \"info\": \"\"\"\n",
    "    Info:\n",
    "    Director: Ruben Fleischer\n",
    "    Main Cast: Tom Hardy, Michelle Williams, Riz Ahmed, Woody Harrelson\n",
    "    Budget: 110 million USD\n",
    "    Box Office Revenue: 856.1 million USD\n",
    "    Genre: Action, Sci-Fi, Thriller, Suspense, Horror\n",
    "    Synopsis: Journalist Eddie Brock is trying to take down Carlton Drake, the notorious and brilliant founder of the Life Foundation. While investigating one of Drake's experiments, Eddie's body merges with the alien Venom -- leaving him with superhuman strength and power. Twisted, dark and fueled by rage, Venom tries to control the new and dangerous abilities that Eddie finds so intoxicating.\n",
    "    \"\"\",\n",
    "  },\n",
    "]\n",
    "\n",
    "\n",
    "example_prompt = ChatPromptTemplate.from_messages(\n",
    "    [\n",
    "        (\"human\", \"Give me information about {movie}?\"),\n",
    "        (\"ai\", \"{info}\"),\n",
    "    ]\n",
    ")\n",
    "\n",
    "example_prompt = FewShotChatMessagePromptTemplate(\n",
    "    example_prompt=example_prompt,\n",
    "    examples=examples,\n",
    ")\n",
    "\n",
    "final_prompt = ChatPromptTemplate.from_messages(\n",
    "    [\n",
    "        (\"system\", \"You are a movie expert.\"),\n",
    "        example_prompt,\n",
    "        (\"human\", \"What do you know about {movie}?\"),\n",
    "    ]\n",
    ")\n",
    "\n",
    "chain = final_prompt | chat\n",
    "\n",
    "chain.invoke({\"movie\": \"Avengers: Endgame\"})"
   ]
  }
 ],
 "metadata": {
  "kernelspec": {
   "display_name": "env",
   "language": "python",
   "name": "python3"
  },
  "language_info": {
   "codemirror_mode": {
    "name": "ipython",
    "version": 3
   },
   "file_extension": ".py",
   "mimetype": "text/x-python",
   "name": "python",
   "nbconvert_exporter": "python",
   "pygments_lexer": "ipython3",
   "version": "3.11.6"
  }
 },
 "nbformat": 4,
 "nbformat_minor": 2
}
